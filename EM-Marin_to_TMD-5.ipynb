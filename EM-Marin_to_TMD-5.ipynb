{
 "cells": [
  {
   "cell_type": "code",
   "execution_count": 1,
   "metadata": {
    "collapsed": false,
    "scrolled": true
   },
   "outputs": [
    {
     "name": "stdout",
     "output_type": "stream",
     "text": [
      "Введи код с карты в формате 123/45678\n",
      "123/45678\n",
      "09007bb26e\n"
     ]
    }
   ],
   "source": [
    "# Программа конвертирует код смарт-карты EM-Marin в формат для программаторов TMD-5 и аналогичных (5 октетов, первые 2 - 09 00)\n",
    "import sys\n",
    "import warnings\n",
    "warnings.filterwarnings(\"ignore\")\n",
    "print (\"Введи код с карты в формате 123/45678\")\n",
    "DecNumberList = list(str(input()))\n",
    "i = 0\n",
    "FirstPart, MidPart, LastPart = \"\", \"\", \"\"\n",
    "\n",
    "while i < len(DecNumberList):\n",
    "    try:\n",
    "        n = int(DecNumberList[i])\n",
    "    except ValueError:\n",
    "        break\n",
    "    FirstPart = FirstPart + DecNumberList[i]\n",
    "    i += 1\n",
    "\n",
    "try:\n",
    "    MidPart = DecNumberList[i]\n",
    "except IndexError:\n",
    "    sys.exit(\"Во введённом коде отсутствует разделитель\")\n",
    "\n",
    "\n",
    "i += 1\n",
    "while i < len(DecNumberList):\n",
    "    try:\n",
    "        n = int(DecNumberList[i])\n",
    "    except ValueError:\n",
    "        break\n",
    "    LastPart = LastPart + DecNumberList[i]\n",
    "    i += 1    \n",
    "print (str('0900')+str(hex(int(FirstPart)))[2:]+str(hex(int(LastPart)))[2:])"
   ]
  },
  {
   "cell_type": "code",
   "execution_count": null,
   "metadata": {
    "collapsed": true
   },
   "outputs": [],
   "source": []
  }
 ],
 "metadata": {
  "anaconda-cloud": {},
  "kernelspec": {
   "display_name": "Python [default]",
   "language": "python",
   "name": "python3"
  },
  "language_info": {
   "codemirror_mode": {
    "name": "ipython",
    "version": 3
   },
   "file_extension": ".py",
   "mimetype": "text/x-python",
   "name": "python",
   "nbconvert_exporter": "python",
   "pygments_lexer": "ipython3",
   "version": "3.5.2"
  }
 },
 "nbformat": 4,
 "nbformat_minor": 1
}
